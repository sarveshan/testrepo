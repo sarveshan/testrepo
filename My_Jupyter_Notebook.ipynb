{
 "cells": [
  {
   "cell_type": "markdown",
   "id": "02b70a05-0457-43fc-b27e-6bdaf7c413ac",
   "metadata": {},
   "source": [
    "# My Jupyter Notebook on IBM Watson Studio"
   ]
  },
  {
   "cell_type": "markdown",
   "id": "5ea748b3-1250-48a3-a5c3-17051627ed13",
   "metadata": {},
   "source": [
    "**Sarveshan Silvam**\n",
    "\n",
    "Data Scientist"
   ]
  },
  {
   "cell_type": "markdown",
   "id": "5a2b5f18-526c-4a66-ab15-43b84bc4b057",
   "metadata": {},
   "source": [
    "*I am interested in data science because I would love to create solutions for different issues that we face in our daily lives using various statistical techniques and interpretation.*"
   ]
  },
  {
   "cell_type": "markdown",
   "id": "f77ed386-a58d-4451-ab97-8cdd9b1bece6",
   "metadata": {},
   "source": [
    "### The below should print 'Hello World'"
   ]
  },
  {
   "cell_type": "code",
   "execution_count": 2,
   "id": "80606782-4e62-4722-844e-d559974eca9f",
   "metadata": {},
   "outputs": [
    {
     "name": "stdout",
     "output_type": "stream",
     "text": [
      "Hello World\n"
     ]
    }
   ],
   "source": [
    "print(\"Hello World\")"
   ]
  },
  {
   "cell_type": "markdown",
   "id": "dc18a060-b0b2-4315-9667-2cb1521dad65",
   "metadata": {},
   "source": [
    "## List of Countries to Visit\n",
    "\n",
    "1. Switzerland \n",
    "2. Australia\n",
    "3. France \n",
    "4. Portugal\n",
    "5. England\n",
    "\n",
    "|Books|Author|\n",
    "|-----|------|\n",
    "|Harry Potter|J.K Rowling|\n",
    "|Three Dwarfs|Aaron McNeil|\n",
    "|Stormbreaker|Jon Snow|\n",
    "\n",
    "## List of Groceries\n",
    "\n",
    "- Bread\n",
    "- Milk\n",
    "- Tomatoes\n",
    "- Eggs\n",
    "- Onions\n"
   ]
  }
 ],
 "metadata": {
  "kernelspec": {
   "display_name": "Python",
   "language": "python",
   "name": "conda-env-python-py"
  },
  "language_info": {
   "codemirror_mode": {
    "name": "ipython",
    "version": 3
   },
   "file_extension": ".py",
   "mimetype": "text/x-python",
   "name": "python",
   "nbconvert_exporter": "python",
   "pygments_lexer": "ipython3",
   "version": "3.7.12"
  }
 },
 "nbformat": 4,
 "nbformat_minor": 5
}
